{
 "cells": [
  {
   "cell_type": "code",
   "execution_count": 1,
   "metadata": {},
   "outputs": [],
   "source": [
    "import seaborn as sns\n",
    "import metapack as mp\n",
    "import pandas as pd\n",
    "import numpy as np\n",
    "import matplotlib.pyplot as plt\n",
    "from IPython.display import display \n",
    "\n",
    "%matplotlib inline\n",
    "sns.set_context('notebook')\n",
    "mp.jupyter.init()\n"
   ]
  },
  {
   "cell_type": "code",
   "execution_count": 2,
   "metadata": {},
   "outputs": [
    {
     "data": {
      "text/html": [
       "<h1>Community Reinvestment Act Disclosure Files, 2010 to 2018</h1>\n",
       "<p><code>ffiec.gov-cra_disclosure_smb-2.1.1</code> Last Update: 2020-08-11T21:37:46</p>\n",
       "<p><em>Multi-year CRA disclosures for small business originations.</em></p>\n",
       "<h2>Documentation Links</h2>\n",
       "<ul>\n",
       "<li><a href=\"https://www.ffiec.gov/cra/pdf/17FlatDiscSpecs.pdf\">Disclosure File Specifications</a> File specifications for the 2017 Disclosure Flat File</li>\n",
       "<li><a href=\"https://www.ffiec.gov/cra/craproducts.htm\">CRA Data Products</a> </li>\n",
       "<li><a href=\"https://www.ffiec.gov/cra/craflatfiles.htm\">Aggregate &amp; Disclosure Flat Files</a> Links to download the files.</li>\n",
       "</ul>\n",
       "<h2>Contacts</h2>\n",
       "<ul>\n",
       "<li><strong>Wrangler</strong> <a href=\"mailto:eric@sandiegodata.org\">Eric Busboom</a>, <a href=\"http://sandiegodata.org\">San Diego Regional Data Library</a></li>\n",
       "</ul>\n",
       "<h2>Resources</h2>\n",
       "<ul>\n",
       "<li><strong> <a href=\"data/sb_loan_orig.csv\">sb_loan_orig</a></strong>. Table D1-1, small business disclosure records, for years 2010 to 2015 inclusive</li>\n",
       "</ul>\n",
       "<h2>References</h2>\n",
       "<p><ul><li> <strong><a href=\"https://www.ffiec.gov/cra/xls/18exp_discl.zip\">discl_18</a></strong>. </li><li> <strong><a href=\"https://www.ffiec.gov/cra/xls/17exp_discl.zip\">discl_17</a></strong>. </li><li> <strong><a href=\"https://www.ffiec.gov/cra/xls/16exp_discl.zip\">discl_16</a></strong>. </li><li> <strong><a href=\"https://www.ffiec.gov/cra/xls/15exp_discl.zip\">discl_15</a></strong>. </li><li> <strong><a href=\"https://www.ffiec.gov/cra/xls/14exp_discl.zip\">discl_14</a></strong>. </li><li> <strong><a href=\"https://www.ffiec.gov/cra/xls/13exp_discl.zip\">discl_13</a></strong>. </li><li> <strong><a href=\"https://www.ffiec.gov/cra/xls/12exp_discl.zip\">discl_12</a></strong>. </li><li> <strong><a href=\"https://www.ffiec.gov/cra/xls/11exp_discl.zip\">discl_11</a></strong>. </li><li> <strong><a href=\"https://www.ffiec.gov/cra/xls/10exp_discl.zip\">discl_10</a></strong>. </li><ul></p>"
      ],
      "text/plain": [
       "# Community Reinvestment Act Disclosure Files, 2010 to 2018\n",
       "`ffiec.gov-cra_disclosure_smb-2.1.1` Last Update: 2020-08-11T21:37:46\n",
       "\n",
       "_Multi-year CRA disclosures for small business originations._\n",
       "\n",
       "\n",
       "## Documentation Links\n",
       "\n",
       "* [Disclosure File Specifications](https://www.ffiec.gov/cra/pdf/17FlatDiscSpecs.pdf) File specifications for the 2017 Disclosure Flat File\n",
       "* [CRA Data Products](https://www.ffiec.gov/cra/craproducts.htm) \n",
       "* [Aggregate & Disclosure Flat Files](https://www.ffiec.gov/cra/craflatfiles.htm) Links to download the files.\n",
       "\n",
       " \n",
       "\n",
       "## Contacts\n",
       "\n",
       "* **Wrangler** [Eric Busboom](mailto:eric@sandiegodata.org), [San Diego Regional Data Library](http://sandiegodata.org)\n",
       "\n",
       "## Resources\n",
       "\n",
       "* ** [sb_loan_orig](data/sb_loan_orig.csv)**. Table D1-1, small business disclosure records, for years 2010 to 2015 inclusive\n",
       "\n",
       "## References\n",
       "<ul><li> <strong><a href=\"https://www.ffiec.gov/cra/xls/18exp_discl.zip\">discl_18</a></strong>. </li><li> <strong><a href=\"https://www.ffiec.gov/cra/xls/17exp_discl.zip\">discl_17</a></strong>. </li><li> <strong><a href=\"https://www.ffiec.gov/cra/xls/16exp_discl.zip\">discl_16</a></strong>. </li><li> <strong><a href=\"https://www.ffiec.gov/cra/xls/15exp_discl.zip\">discl_15</a></strong>. </li><li> <strong><a href=\"https://www.ffiec.gov/cra/xls/14exp_discl.zip\">discl_14</a></strong>. </li><li> <strong><a href=\"https://www.ffiec.gov/cra/xls/13exp_discl.zip\">discl_13</a></strong>. </li><li> <strong><a href=\"https://www.ffiec.gov/cra/xls/12exp_discl.zip\">discl_12</a></strong>. </li><li> <strong><a href=\"https://www.ffiec.gov/cra/xls/11exp_discl.zip\">discl_11</a></strong>. </li><li> <strong><a href=\"https://www.ffiec.gov/cra/xls/10exp_discl.zip\">discl_10</a></strong>. </li><ul>\n"
      ]
     },
     "execution_count": 2,
     "metadata": {},
     "output_type": "execute_result"
    }
   ],
   "source": [
    "pkg = mp.jupyter.open_package()\n",
    "#pkg = mp.jupyter.open_source_package()\n",
    "pkg"
   ]
  },
  {
   "cell_type": "code",
   "execution_count": 3,
   "metadata": {},
   "outputs": [
    {
     "data": {
      "text/html": [
       "<h3><a name=\"resource-sb_loan_orig\"></a>sb_loan_orig</h3><p><a target=\"_blank\" href=\"file:///Users/eric/proj/data-projects/metatab-packages/ffiec.gov/ffiec.gov-cra_disclosure/_packages/ffiec.gov-cra_disclosure_smb-2.1.1/data/sb_loan_orig.csv\">file:///Users/eric/proj/data-projects/metatab-packages/ffiec.gov/ffiec.gov-cra_disclosure/_packages/ffiec.gov-cra_disclosure_smb-2.1.1/data/sb_loan_orig.csv</a></p><table>\n",
       "<tr><th>Header</th><th>Type</th><th>Description</th></tr><tr><td>table_id</td><td>text</td><td>Value is D1-1</td></tr> \n",
       "<tr><td>respondent_id</td><td>text</td><td>Assigned by regulatory agency \n",
       "(same as HMDAID if applicable);  \n",
       "Right justified with leading zeros</td></tr> \n",
       "<tr><td>agency</td><td>integer</td><td>Values are 1=OCC, 2=FRS, \n",
       "3=FDIC, or 4=OTS</td></tr> \n",
       "<tr><td>year</td><td>integer</td><td>Four digit year (e.g. 2012)</td></tr> \n",
       "<tr><td>loan_type</td><td>integer</td><td>Value is 4 (Small Business)</td></tr> \n",
       "<tr><td>action</td><td>integer</td><td>Value is 1 (Originations)</td></tr> \n",
       "<tr><td>state</td><td>integer</td><td>FIPS code with leading zeros \n",
       "or blank for totals across all \n",
       "states</td></tr> \n",
       "<tr><td>county</td><td>integer</td><td>FIPS code with leading zeros or blank \n",
       "for totals across all counties</td></tr> \n",
       "<tr><td>msa</td><td>integer</td><td>As defined by OMB; Right justified \n",
       "with leading zeros, NA left justified \n",
       "for areas outside of MSA/MD or blank \n",
       "for totals across all MSA/MDs</td></tr> \n",
       "<tr><td>assessment_area</td><td>text</td><td>Values are 0001 through 9999; Right \n",
       "justified with leading zeros, NA left justified \n",
       "for areas outside of an Assessment \n",
       "Area (including predominately military \n",
       "areas) OR blank for totals across \n",
       "all Assessment Areas</td></tr> \n",
       "<tr><td>partial_county</td><td>text</td><td>Values are \n",
       "Y = Yes \n",
       "N = No \n",
       "OR blank for totals</td></tr> \n",
       "<tr><td>split_county</td><td>text</td><td>Values are \n",
       "Y = Yes \n",
       "N = No \n",
       "OR blank for totals</td></tr> \n",
       "<tr><td>pop_class</td><td>text</td><td>Values are \n",
       "S= counties with \n",
       "< 500,000 in population \n",
       "L= counties with \n",
       ">500,000 in population \n",
       "OR blank for totals</td></tr> \n",
       "<tr><td>income_total</td><td>text</td><td>Values are \n",
       "1= < 10% of Median Family \n",
       "Income(MFI) \n",
       "2= 10% to 20% of MFI \n",
       "3= 20% to 30% of MFI \n",
       "4= 30% to 40% of MFI \n",
       "5= 40% to 50% of MFI \n",
       "6= 50% to 60% of MFI \n",
       "7= 60% to 70% of MFI \n",
       "8= 70% to 80% of MFI \n",
       "9= 80% to 90% of MFI \n",
       " 10= 90% to 100% of MFI \n",
       " 11= 100% to 110% of MFI \n",
       " 12= 110% to 120% of MFI \n",
       " 13= > 120% of MFI \n",
       " 14= MFI not known (income \n",
       "percentage = 0) \n",
       " 15= Tract not Known (reported \n",
       "as NA) \n",
       "101= Low Income (< 50% of \n",
       "MFI - excluding 0) \n",
       "102= Moderate Income (50% \n",
       "to 80% of MFI) \n",
       "103= Middle Income (80% to \n",
       "120% of MFI) \n",
       "104= Upper Income (> 120% \n",
       "of MFI) \n",
       "105= Income Not Known (0) \n",
       "106= Tract not Known (NA) \n",
       "Right justified with leading zeros \n",
       "or blank for totals</td></tr> \n",
       "<tr><td>report_level</td><td>text</td><td>Values are \n",
       "4= Total Inside & Outside \n",
       "Assessment Area (AA) \n",
       "(across all states) \n",
       "6= Total Inside AA \n",
       "(across all states) \n",
       "8= Total Outside AA \n",
       "(across all states) \n",
       "  10= State Total \n",
       "  20= Total Inside AA in State \n",
       "  30= Total Outside AA in State \n",
       "  40= County Total \n",
       "  50= Total Inside AA in County \n",
       "  60= Total Outside AA in County \n",
       "Right justified with leading zeros \n",
       "or blank if not a total</td></tr> \n",
       "<tr><td>num_orig_bus_lt100k</td><td>integer</td><td>Number of loans less than $100K</td></tr> \n",
       "<tr><td>tot_orig_bus_lt100k</td><td>integer</td><td>Total value of loans, in thousands</td></tr> \n",
       "<tr><td>num_orig_bus_lt250k</td><td>integer</td><td>Number of loans less than $250K, more than $100K</td></tr> \n",
       "<tr><td>tot_orig_bus_gt100k_lt250k</td><td>integer</td><td>Total value of loans, in thousands</td></tr> \n",
       "<tr><td>num_orig_bus_gt250k_lt1m</td><td>integer</td><td>Number of loans, less than $1M, more than $250K</td></tr> \n",
       "<tr><td>tot_orig_bus_gt250k_lt1m</td><td>integer</td><td>Total value of loans, in thousands</td></tr> \n",
       "<tr><td>num_orig_bus_lt1m</td><td>integer</td><td>Number of loans to businesses with gross revenues of less than $1m</td></tr> \n",
       "<tr><td>tot_orig_bus_lt1m</td><td>integer</td><td>Total value of loans, in thousands</td></tr> \n",
       "<tr><td>num_orig_bus_al</td><td>integer</td><td>Number of affiliate loans</td></tr> \n",
       "<tr><td>tot_orig_bus_al</td><td>integer</td><td>Total value of loans, in thousands</td></tr> </table>"
      ],
      "text/plain": [
       "<Resource: metadata.csv 41:1 root.datafile data/sb_loan_orig.csv ['sb_loan_orig', 'cra_disclosure', 'D1-1', 'Table D1-1, small business disclosure records, for years 2010 to 2015 inclusive']>"
      ]
     },
     "execution_count": 3,
     "metadata": {},
     "output_type": "execute_result"
    }
   ],
   "source": [
    "pkg.resource('sb_loan_orig')"
   ]
  },
  {
   "cell_type": "code",
   "execution_count": 4,
   "metadata": {},
   "outputs": [
    {
     "data": {
      "text/html": [
       "<div>\n",
       "<style scoped>\n",
       "    .dataframe tbody tr th:only-of-type {\n",
       "        vertical-align: middle;\n",
       "    }\n",
       "\n",
       "    .dataframe tbody tr th {\n",
       "        vertical-align: top;\n",
       "    }\n",
       "\n",
       "    .dataframe thead th {\n",
       "        text-align: right;\n",
       "    }\n",
       "</style>\n",
       "<table border=\"1\" class=\"dataframe\">\n",
       "  <thead>\n",
       "    <tr style=\"text-align: right;\">\n",
       "      <th></th>\n",
       "      <th>table_id</th>\n",
       "      <th>respondent_id</th>\n",
       "      <th>agency</th>\n",
       "      <th>year</th>\n",
       "      <th>loan_type</th>\n",
       "      <th>action</th>\n",
       "      <th>state</th>\n",
       "      <th>county</th>\n",
       "      <th>msa</th>\n",
       "      <th>assessment_area</th>\n",
       "      <th>...</th>\n",
       "      <th>num_orig_bus_lt100k</th>\n",
       "      <th>tot_orig_bus_lt100k</th>\n",
       "      <th>num_orig_bus_lt250k</th>\n",
       "      <th>tot_orig_bus_gt100k_lt250k</th>\n",
       "      <th>num_orig_bus_gt250k_lt1m</th>\n",
       "      <th>tot_orig_bus_gt250k_lt1m</th>\n",
       "      <th>num_orig_bus_lt1m</th>\n",
       "      <th>tot_orig_bus_lt1m</th>\n",
       "      <th>num_orig_bus_al</th>\n",
       "      <th>tot_orig_bus_al</th>\n",
       "    </tr>\n",
       "  </thead>\n",
       "  <tbody>\n",
       "    <tr>\n",
       "      <th>0</th>\n",
       "      <td>D1-1</td>\n",
       "      <td>0000000001</td>\n",
       "      <td>1</td>\n",
       "      <td>2018</td>\n",
       "      <td>4</td>\n",
       "      <td>1</td>\n",
       "      <td>1</td>\n",
       "      <td>1</td>\n",
       "      <td>33860</td>\n",
       "      <td>0028</td>\n",
       "      <td>...</td>\n",
       "      <td>0</td>\n",
       "      <td>0</td>\n",
       "      <td>0</td>\n",
       "      <td>0</td>\n",
       "      <td>0</td>\n",
       "      <td>0</td>\n",
       "      <td>0</td>\n",
       "      <td>0</td>\n",
       "      <td>0</td>\n",
       "      <td>0</td>\n",
       "    </tr>\n",
       "    <tr>\n",
       "      <th>1</th>\n",
       "      <td>D1-1</td>\n",
       "      <td>0000000001</td>\n",
       "      <td>1</td>\n",
       "      <td>2018</td>\n",
       "      <td>4</td>\n",
       "      <td>1</td>\n",
       "      <td>1</td>\n",
       "      <td>1</td>\n",
       "      <td>33860</td>\n",
       "      <td>0028</td>\n",
       "      <td>...</td>\n",
       "      <td>4</td>\n",
       "      <td>153</td>\n",
       "      <td>0</td>\n",
       "      <td>0</td>\n",
       "      <td>0</td>\n",
       "      <td>0</td>\n",
       "      <td>2</td>\n",
       "      <td>24</td>\n",
       "      <td>0</td>\n",
       "      <td>0</td>\n",
       "    </tr>\n",
       "    <tr>\n",
       "      <th>2</th>\n",
       "      <td>D1-1</td>\n",
       "      <td>0000000001</td>\n",
       "      <td>1</td>\n",
       "      <td>2018</td>\n",
       "      <td>4</td>\n",
       "      <td>1</td>\n",
       "      <td>1</td>\n",
       "      <td>1</td>\n",
       "      <td>33860</td>\n",
       "      <td>0028</td>\n",
       "      <td>...</td>\n",
       "      <td>8</td>\n",
       "      <td>254</td>\n",
       "      <td>0</td>\n",
       "      <td>0</td>\n",
       "      <td>0</td>\n",
       "      <td>0</td>\n",
       "      <td>4</td>\n",
       "      <td>19</td>\n",
       "      <td>0</td>\n",
       "      <td>0</td>\n",
       "    </tr>\n",
       "    <tr>\n",
       "      <th>3</th>\n",
       "      <td>D1-1</td>\n",
       "      <td>0000000001</td>\n",
       "      <td>1</td>\n",
       "      <td>2018</td>\n",
       "      <td>4</td>\n",
       "      <td>1</td>\n",
       "      <td>1</td>\n",
       "      <td>1</td>\n",
       "      <td>33860</td>\n",
       "      <td>0028</td>\n",
       "      <td>...</td>\n",
       "      <td>24</td>\n",
       "      <td>802</td>\n",
       "      <td>0</td>\n",
       "      <td>0</td>\n",
       "      <td>0</td>\n",
       "      <td>0</td>\n",
       "      <td>18</td>\n",
       "      <td>533</td>\n",
       "      <td>0</td>\n",
       "      <td>0</td>\n",
       "    </tr>\n",
       "    <tr>\n",
       "      <th>4</th>\n",
       "      <td>D1-1</td>\n",
       "      <td>0000000001</td>\n",
       "      <td>1</td>\n",
       "      <td>2018</td>\n",
       "      <td>4</td>\n",
       "      <td>1</td>\n",
       "      <td>1</td>\n",
       "      <td>1</td>\n",
       "      <td>33860</td>\n",
       "      <td>0028</td>\n",
       "      <td>...</td>\n",
       "      <td>0</td>\n",
       "      <td>0</td>\n",
       "      <td>0</td>\n",
       "      <td>0</td>\n",
       "      <td>0</td>\n",
       "      <td>0</td>\n",
       "      <td>0</td>\n",
       "      <td>0</td>\n",
       "      <td>0</td>\n",
       "      <td>0</td>\n",
       "    </tr>\n",
       "  </tbody>\n",
       "</table>\n",
       "<p>5 rows × 25 columns</p>\n",
       "</div>"
      ],
      "text/plain": [
       "  table_id respondent_id  agency  year  loan_type  action  state  county  \\\n",
       "0     D1-1    0000000001       1  2018          4       1      1       1   \n",
       "1     D1-1    0000000001       1  2018          4       1      1       1   \n",
       "2     D1-1    0000000001       1  2018          4       1      1       1   \n",
       "3     D1-1    0000000001       1  2018          4       1      1       1   \n",
       "4     D1-1    0000000001       1  2018          4       1      1       1   \n",
       "\n",
       "     msa assessment_area  ... num_orig_bus_lt100k tot_orig_bus_lt100k  \\\n",
       "0  33860            0028  ...                   0                   0   \n",
       "1  33860            0028  ...                   4                 153   \n",
       "2  33860            0028  ...                   8                 254   \n",
       "3  33860            0028  ...                  24                 802   \n",
       "4  33860            0028  ...                   0                   0   \n",
       "\n",
       "  num_orig_bus_lt250k tot_orig_bus_gt100k_lt250k num_orig_bus_gt250k_lt1m  \\\n",
       "0                   0                          0                        0   \n",
       "1                   0                          0                        0   \n",
       "2                   0                          0                        0   \n",
       "3                   0                          0                        0   \n",
       "4                   0                          0                        0   \n",
       "\n",
       "   tot_orig_bus_gt250k_lt1m  num_orig_bus_lt1m  tot_orig_bus_lt1m  \\\n",
       "0                         0                  0                  0   \n",
       "1                         0                  2                 24   \n",
       "2                         0                  4                 19   \n",
       "3                         0                 18                533   \n",
       "4                         0                  0                  0   \n",
       "\n",
       "   num_orig_bus_al  tot_orig_bus_al  \n",
       "0                0                0  \n",
       "1                0                0  \n",
       "2                0                0  \n",
       "3                0                0  \n",
       "4                0                0  \n",
       "\n",
       "[5 rows x 25 columns]"
      ]
     },
     "execution_count": 4,
     "metadata": {},
     "output_type": "execute_result"
    }
   ],
   "source": [
    "df = pkg.resource('sb_loan_orig').dataframe()\n",
    "df.head()"
   ]
  },
  {
   "cell_type": "code",
   "execution_count": 5,
   "metadata": {},
   "outputs": [
    {
     "data": {
      "text/plain": [
       "326"
      ]
     },
     "execution_count": 5,
     "metadata": {},
     "output_type": "execute_result"
    }
   ],
   "source": [
    "df[df.year==2015].county.nunique()"
   ]
  },
  {
   "cell_type": "code",
   "execution_count": 6,
   "metadata": {},
   "outputs": [],
   "source": [
    "from geoid.acs import County\n",
    "\n",
    "def mkgeoid(r):\n",
    "    try:\n",
    "        return str(County(r.state, r.county))\n",
    "    except ValueError:\n",
    "        return None\n",
    "\n",
    "df['geoid'] = df.apply(lambda r: mkgeoid(r), axis=1)"
   ]
  },
  {
   "cell_type": "code",
   "execution_count": 7,
   "metadata": {},
   "outputs": [
    {
     "data": {
      "text/html": [
       "<div>\n",
       "<style scoped>\n",
       "    .dataframe tbody tr th:only-of-type {\n",
       "        vertical-align: middle;\n",
       "    }\n",
       "\n",
       "    .dataframe tbody tr th {\n",
       "        vertical-align: top;\n",
       "    }\n",
       "\n",
       "    .dataframe thead th {\n",
       "        text-align: right;\n",
       "    }\n",
       "</style>\n",
       "<table border=\"1\" class=\"dataframe\">\n",
       "  <thead>\n",
       "    <tr style=\"text-align: right;\">\n",
       "      <th>year</th>\n",
       "      <th>2010</th>\n",
       "      <th>2011</th>\n",
       "      <th>2012</th>\n",
       "      <th>2013</th>\n",
       "      <th>2014</th>\n",
       "      <th>2015</th>\n",
       "      <th>2016</th>\n",
       "      <th>2017</th>\n",
       "      <th>2018</th>\n",
       "    </tr>\n",
       "    <tr>\n",
       "      <th>geoid</th>\n",
       "      <th></th>\n",
       "      <th></th>\n",
       "      <th></th>\n",
       "      <th></th>\n",
       "      <th></th>\n",
       "      <th></th>\n",
       "      <th></th>\n",
       "      <th></th>\n",
       "      <th></th>\n",
       "    </tr>\n",
       "  </thead>\n",
       "  <tbody>\n",
       "    <tr>\n",
       "      <th>05000US17031</th>\n",
       "      <td>3200.0</td>\n",
       "      <td>3184.0</td>\n",
       "      <td>3216.0</td>\n",
       "      <td>3216.0</td>\n",
       "      <td>3407.0</td>\n",
       "      <td>3325.0</td>\n",
       "      <td>3324.0</td>\n",
       "      <td>3056.0</td>\n",
       "      <td>3248.0</td>\n",
       "    </tr>\n",
       "    <tr>\n",
       "      <th>05000US25017</th>\n",
       "      <td>2926.0</td>\n",
       "      <td>2782.0</td>\n",
       "      <td>2624.0</td>\n",
       "      <td>2592.0</td>\n",
       "      <td>2718.0</td>\n",
       "      <td>3007.0</td>\n",
       "      <td>2783.0</td>\n",
       "      <td>2959.0</td>\n",
       "      <td>2846.0</td>\n",
       "    </tr>\n",
       "    <tr>\n",
       "      <th>05000US06013</th>\n",
       "      <td>2918.0</td>\n",
       "      <td>3168.0</td>\n",
       "      <td>1296.0</td>\n",
       "      <td>1471.0</td>\n",
       "      <td>1470.0</td>\n",
       "      <td>1534.0</td>\n",
       "      <td>1598.0</td>\n",
       "      <td>1616.0</td>\n",
       "      <td>1584.0</td>\n",
       "    </tr>\n",
       "    <tr>\n",
       "      <th>05000US06001</th>\n",
       "      <td>2914.0</td>\n",
       "      <td>2847.0</td>\n",
       "      <td>1615.0</td>\n",
       "      <td>1530.0</td>\n",
       "      <td>1896.0</td>\n",
       "      <td>1811.0</td>\n",
       "      <td>1936.0</td>\n",
       "      <td>1824.0</td>\n",
       "      <td>1872.0</td>\n",
       "    </tr>\n",
       "    <tr>\n",
       "      <th>05000US06037</th>\n",
       "      <td>2731.0</td>\n",
       "      <td>2688.0</td>\n",
       "      <td>2768.0</td>\n",
       "      <td>2704.0</td>\n",
       "      <td>2800.0</td>\n",
       "      <td>3024.0</td>\n",
       "      <td>2976.0</td>\n",
       "      <td>3264.0</td>\n",
       "      <td>3424.0</td>\n",
       "    </tr>\n",
       "  </tbody>\n",
       "</table>\n",
       "</div>"
      ],
      "text/plain": [
       "year            2010    2011    2012    2013    2014    2015    2016    2017  \\\n",
       "geoid                                                                          \n",
       "05000US17031  3200.0  3184.0  3216.0  3216.0  3407.0  3325.0  3324.0  3056.0   \n",
       "05000US25017  2926.0  2782.0  2624.0  2592.0  2718.0  3007.0  2783.0  2959.0   \n",
       "05000US06013  2918.0  3168.0  1296.0  1471.0  1470.0  1534.0  1598.0  1616.0   \n",
       "05000US06001  2914.0  2847.0  1615.0  1530.0  1896.0  1811.0  1936.0  1824.0   \n",
       "05000US06037  2731.0  2688.0  2768.0  2704.0  2800.0  3024.0  2976.0  3264.0   \n",
       "\n",
       "year            2018  \n",
       "geoid                 \n",
       "05000US17031  3248.0  \n",
       "05000US25017  2846.0  \n",
       "05000US06013  1584.0  \n",
       "05000US06001  1872.0  \n",
       "05000US06037  3424.0  "
      ]
     },
     "execution_count": 7,
     "metadata": {},
     "output_type": "execute_result"
    }
   ],
   "source": [
    "df.groupby(['geoid','year']).table_id.count().unstack().sort_values(2010, ascending=False).head()"
   ]
  },
  {
   "cell_type": "code",
   "execution_count": 8,
   "metadata": {},
   "outputs": [],
   "source": [
    "g = df.groupby(['respondent_id','year'])"
   ]
  },
  {
   "cell_type": "code",
   "execution_count": 9,
   "metadata": {},
   "outputs": [
    {
     "data": {
      "text/plain": [
       "6564"
      ]
     },
     "execution_count": 9,
     "metadata": {},
     "output_type": "execute_result"
    }
   ],
   "source": [
    "len(g.groups.keys())"
   ]
  },
  {
   "cell_type": "code",
   "execution_count": 10,
   "metadata": {},
   "outputs": [
    {
     "data": {
      "text/plain": [
       "N    5943357\n",
       "Name: split_county, dtype: int64"
      ]
     },
     "execution_count": 10,
     "metadata": {},
     "output_type": "execute_result"
    }
   ],
   "source": [
    "df.split_county.value_counts()"
   ]
  },
  {
   "cell_type": "code",
   "execution_count": 11,
   "metadata": {},
   "outputs": [
    {
     "data": {
      "text/plain": [
       "['num_orig_bus_lt100k',\n",
       " 'num_orig_bus_lt250k',\n",
       " 'num_orig_bus_gt250k_lt1m',\n",
       " 'num_orig_bus_lt1m',\n",
       " 'num_orig_bus_al']"
      ]
     },
     "execution_count": 11,
     "metadata": {},
     "output_type": "execute_result"
    }
   ],
   "source": [
    "num_col = [c for c in df.columns if c.startswith('num')]\n",
    "num_col"
   ]
  },
  {
   "cell_type": "code",
   "execution_count": 12,
   "metadata": {},
   "outputs": [
    {
     "data": {
      "text/plain": [
       "['tot_orig_bus_lt100k',\n",
       " 'tot_orig_bus_gt100k_lt250k',\n",
       " 'tot_orig_bus_gt250k_lt1m',\n",
       " 'tot_orig_bus_lt1m',\n",
       " 'tot_orig_bus_al']"
      ]
     },
     "execution_count": 12,
     "metadata": {},
     "output_type": "execute_result"
    }
   ],
   "source": [
    "tot_col = [c for c in df.columns if c.startswith('tot')]\n",
    "tot_col"
   ]
  },
  {
   "cell_type": "code",
   "execution_count": 13,
   "metadata": {},
   "outputs": [],
   "source": [
    "cols = [c for c in df.columns if c.startswith('tot_') or c.startswith('num_')]\n",
    "\n",
    "t = df.groupby(['year','geoid'])[cols].sum()"
   ]
  },
  {
   "cell_type": "code",
   "execution_count": 15,
   "metadata": {},
   "outputs": [
    {
     "data": {
      "text/plain": [
       "29039"
      ]
     },
     "execution_count": 15,
     "metadata": {},
     "output_type": "execute_result"
    }
   ],
   "source": [
    "len(t)"
   ]
  },
  {
   "cell_type": "code",
   "execution_count": null,
   "metadata": {},
   "outputs": [],
   "source": []
  }
 ],
 "metadata": {
  "kernelspec": {
   "display_name": "Python 3",
   "language": "python",
   "name": "python3"
  },
  "language_info": {
   "codemirror_mode": {
    "name": "ipython",
    "version": 3
   },
   "file_extension": ".py",
   "mimetype": "text/x-python",
   "name": "python",
   "nbconvert_exporter": "python",
   "pygments_lexer": "ipython3",
   "version": "3.7.6"
  }
 },
 "nbformat": 4,
 "nbformat_minor": 4
}
